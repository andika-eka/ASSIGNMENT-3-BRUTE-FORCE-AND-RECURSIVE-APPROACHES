{
 "cells": [
  {
   "cell_type": "markdown",
   "metadata": {},
   "source": [
    "**a. integer multiplication**  \n",
    "    x * y  \n",
    "    1. cegah negative input  \n",
    "    2. jika x kurang dari y, tukarkan nilainya  \n",
    "    3. cari hasil penjumlahhan x secara recusive  \n",
    "    4. return 0 jika y = 0 \n",
    "    \n",
    "    file path: (space separated value)   \n",
    "    - ./integerMultiplcation/input.txt\n",
    "    - ./integerMultiplcation/output.txt\n"
   ]
  },
  {
   "cell_type": "code",
   "execution_count": 33,
   "metadata": {},
   "outputs": [],
   "source": [
    "def  recMultiply( x , y ):\n",
    "    #prevent negative\n",
    "    if x < 0 or y < 0:\n",
    "        print(\"invalid input : bilangan negative\")\n",
    "        return\n",
    "\n",
    "    # jika x kurang dari y, tukarkan nilainya  \n",
    "    if x < y:\n",
    "        return  recMultiply(y, x)\n",
    "    \n",
    "    # cari hasil penjumlahhan x secara recusive\n",
    "    elif y :\n",
    "        return (x +  recMultiply(x, y - 1))\n",
    "    \n",
    "    else:\n",
    "        return 0"
   ]
  },
  {
   "cell_type": "code",
   "execution_count": 34,
   "metadata": {},
   "outputs": [
    {
     "name": "stdout",
     "output_type": "stream",
     "text": [
      "result :  42\n"
     ]
    }
   ],
   "source": [
    "x = 6\n",
    "y = 7\n",
    "print( \"result : \", recMultiply(x, y))\n"
   ]
  },
  {
   "cell_type": "code",
   "execution_count": 35,
   "metadata": {},
   "outputs": [],
   "source": [
    "inputPath = \"./integerMultiplcation/input.txt\"\n",
    "outputPath = \"./integerMultiplcation/output.txt\"\n",
    "\n",
    "with open(inputPath) as file:\n",
    "        lines = file.read()\n",
    "num = list(map(int, lines.split()))\n",
    "with open(outputPath, 'w') as file:\n",
    "        file.write(str(recMultiply(num[0],num[1])))\n"
   ]
  },
  {
   "cell_type": "markdown",
   "metadata": {},
   "source": [
    "**b. powering **  \n",
    "    x ^ y  \n",
    "    1. return 0 jika y = 0 \n",
    "    2. cari hasil perkalian x secara recusive\n",
    "    \n",
    "    file path: (space separated value)   \n",
    "    - ./powering/input.txt\n",
    "    - ./powering/output.txt\n"
   ]
  },
  {
   "cell_type": "code",
   "execution_count": 38,
   "metadata": {},
   "outputs": [],
   "source": [
    "def  recPower( x , y ):\n",
    "    #prevent negative\n",
    "    if y < 0:\n",
    "        print(\"invalid input : bilangan negative\")\n",
    "        return\n",
    "    if not y:  \n",
    "        return 1\n",
    "    return (x*recPower(x, y-1))  "
   ]
  },
  {
   "cell_type": "code",
   "execution_count": 42,
   "metadata": {},
   "outputs": [
    {
     "name": "stdout",
     "output_type": "stream",
     "text": [
      "result :  1000\n"
     ]
    }
   ],
   "source": [
    "x = 10\n",
    "y = 3\n",
    "print( \"result : \", recPower(x, y))"
   ]
  },
  {
   "cell_type": "code",
   "execution_count": 43,
   "metadata": {},
   "outputs": [],
   "source": [
    "inputPath = \"./powering/input.txt\"\n",
    "outputPath = \"./powering/output.txt\"\n",
    "\n",
    "with open(inputPath) as file:\n",
    "        lines = file.read()\n",
    "num = list(map(int, lines.split()))\n",
    "with open(outputPath, 'w') as file:\n",
    "        file.write(str(recPower(num[0],num[1])))\n"
   ]
  }
 ],
 "metadata": {
  "interpreter": {
   "hash": "b3ba2566441a7c06988d0923437866b63cedc61552a5af99d1f4fb67d367b25f"
  },
  "kernelspec": {
   "display_name": "Python 3.8.3 64-bit ('base': conda)",
   "name": "python3"
  },
  "language_info": {
   "codemirror_mode": {
    "name": "ipython",
    "version": 3
   },
   "file_extension": ".py",
   "mimetype": "text/x-python",
   "name": "python",
   "nbconvert_exporter": "python",
   "pygments_lexer": "ipython3",
   "version": "3.8.3"
  }
 },
 "nbformat": 4,
 "nbformat_minor": 4
}
