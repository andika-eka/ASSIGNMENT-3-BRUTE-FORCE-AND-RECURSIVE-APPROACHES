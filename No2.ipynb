{
 "cells": [
  {
   "cell_type": "markdown",
   "metadata": {},
   "source": [
    "| Nama program              |\tPoin 1  |\tPoin 2  | Poin 3    |\tPoin 4  |\tketerbatasan            |\n",
    "|---------------------------|-----------|-----------|-----------|-----------|---------------------------|\n",
    "| Integer multiplication    |\tya      |\tya      |\tya      |\tya      |\tHarus bilangan positif  |\n",
    "|Powering\t                |ya\t        |ya\t        |ya\t        |ya\t        |   pangkat harus bilangan positif\n",
    "|Print Down\t                |ya\t        |ya\t        |ya\t        |ya\t        |n harus positif\n",
    "|Print Up \t                |ya\t        |ya\t        |ya\t        |ya\t        |n harus positif\n",
    "|Reverse string\t            |   ya\t    |ya\t        |   ya\t    |ya\t        |\n",
    "|Prime checking \t        |ya\t        |ya\t        |ya\t        |tidak\t        |\n",
    "|Fibonacci \t                |ya\t        |ya\t        |ya\t        |tidak        |n harus positif\n"
   ]
  },
  {
   "cell_type": "markdown",
   "metadata": {},
   "source": [
    "**a. integer multiplication**  \n",
    "    x * y  \n",
    "    1. cegah negative input  \n",
    "    2. jika x kurang dari y, tukarkan nilainya  \n",
    "    3. cari hasil penjumlahhan x secara recusive  \n",
    "    4. return 0 jika y = 0 \n",
    "    \n",
    "    file path: (space separated value)   \n",
    "    - ./integerMultiplcation/input.txt\n",
    "    - ./integerMultiplcation/output.txt\n"
   ]
  },
  {
   "cell_type": "code",
   "execution_count": 1,
   "metadata": {},
   "outputs": [],
   "source": [
    "def  recMultiply( x , y ):\n",
    "    #prevent negative\n",
    "    if x < 0 or y < 0:\n",
    "        print(\"invalid input : bilangan negative\")\n",
    "        return\n",
    "\n",
    "    # jika x kurang dari y, tukarkan nilainya  \n",
    "    if x < y:\n",
    "        return  recMultiply(y, x)\n",
    "    \n",
    "    # cari hasil penjumlahhan x secara recusive\n",
    "    elif y :\n",
    "        return (x +  recMultiply(x, y - 1))\n",
    "    \n",
    "    else:\n",
    "        return 0"
   ]
  },
  {
   "cell_type": "code",
   "execution_count": 2,
   "metadata": {},
   "outputs": [
    {
     "name": "stdout",
     "output_type": "stream",
     "text": [
      "result :  42\n"
     ]
    }
   ],
   "source": [
    "x = 6\n",
    "y = 7\n",
    "print( \"result : \", recMultiply(x, y))\n"
   ]
  },
  {
   "cell_type": "code",
   "execution_count": 3,
   "metadata": {},
   "outputs": [],
   "source": [
    "inputPath = \"./integerMultiplcation/input.txt\"\n",
    "outputPath = \"./integerMultiplcation/output.txt\"\n",
    "\n",
    "with open(inputPath) as file:\n",
    "        lines = file.read()\n",
    "num = list(map(int, lines.split()))\n",
    "with open(outputPath, 'w') as file:\n",
    "        file.write(str(recMultiply(num[0],num[1])))\n"
   ]
  },
  {
   "cell_type": "markdown",
   "metadata": {},
   "source": [
    "**B. powering**  \n",
    "    x ^ y  \n",
    "    1. return 0 jika y = 0 \n",
    "    2. cari hasil perkalian x secara recusive\n",
    "    \n",
    "    file path: (space separated value)   \n",
    "    - ./powering/input.txt\n",
    "    - ./powering/output.txt\n"
   ]
  },
  {
   "cell_type": "code",
   "execution_count": 4,
   "metadata": {},
   "outputs": [],
   "source": [
    "def  recPower( x , y ):\n",
    "    #prevent negative\n",
    "    if y < 0:\n",
    "        print(\"invalid input : bilangan negative\")\n",
    "        return None\n",
    "    if not y:  \n",
    "        return 1\n",
    "    return (x*recPower(x, y-1))  "
   ]
  },
  {
   "cell_type": "code",
   "execution_count": 5,
   "metadata": {},
   "outputs": [
    {
     "name": "stdout",
     "output_type": "stream",
     "text": [
      "result :  1000\n"
     ]
    }
   ],
   "source": [
    "x = 10\n",
    "y = 3\n",
    "print( \"result : \", recPower(x, y))"
   ]
  },
  {
   "cell_type": "code",
   "execution_count": 6,
   "metadata": {},
   "outputs": [],
   "source": [
    "inputPath = \"./powering/input.txt\"\n",
    "outputPath = \"./powering/output.txt\"\n",
    "\n",
    "with open(inputPath) as file:\n",
    "        lines = file.read()\n",
    "num = list(map(int, lines.split()))\n",
    "with open(outputPath, 'w') as file:\n",
    "        file.write(str(recPower(num[0],num[1])))\n"
   ]
  },
  {
   "cell_type": "markdown",
   "metadata": {},
   "source": [
    "**c. print down**  \n",
    "    1. print secara secara recusive  \n",
    "    2. return  jika n = 0 \n",
    "    \n",
    "    file path: (space separated value)   \n",
    "    - ./printDown/input.txt\n",
    "    - ./printDown/output.txt\n"
   ]
  },
  {
   "cell_type": "code",
   "execution_count": 7,
   "metadata": {},
   "outputs": [],
   "source": [
    "\n",
    "def recPrintDown(n, array = list()):\n",
    "    #prevent negative\n",
    "    if n < 0:\n",
    "        print(\"invalid input : bilangan negative\")\n",
    "        return None\n",
    "    print(n, end=' ')\n",
    "    array.append(n)\n",
    "    if not n:\n",
    "        return array\n",
    "    return recPrintDown(n - 1, array)\n"
   ]
  },
  {
   "cell_type": "code",
   "execution_count": 8,
   "metadata": {},
   "outputs": [
    {
     "name": "stdout",
     "output_type": "stream",
     "text": [
      "10 9 8 7 6 5 4 3 2 1 0 "
     ]
    },
    {
     "data": {
      "text/plain": [
       "[10, 9, 8, 7, 6, 5, 4, 3, 2, 1, 0]"
      ]
     },
     "execution_count": 8,
     "metadata": {},
     "output_type": "execute_result"
    }
   ],
   "source": [
    "array = list()\n",
    "recPrintDown(10)"
   ]
  },
  {
   "cell_type": "code",
   "execution_count": 9,
   "metadata": {},
   "outputs": [
    {
     "name": "stdout",
     "output_type": "stream",
     "text": [
      "40 39 38 37 36 35 34 33 32 31 30 29 28 27 26 25 24 23 22 21 20 19 18 17 16 15 14 13 12 11 10 9 8 7 6 5 4 3 2 1 0 "
     ]
    }
   ],
   "source": [
    "inputPath = \"./PrintDown/input.txt\"\n",
    "outputPath = \"./PrintDown/output.txt\"\n",
    "array = list()\n",
    "with open(inputPath) as file:\n",
    "        lines = file.read()\n",
    "with open(outputPath, 'w') as file:\n",
    "        file.write(\" \".join(map(str,recPrintDown(int(lines)))))\n"
   ]
  },
  {
   "cell_type": "markdown",
   "metadata": {},
   "source": [
    "**d. print Up**  \n",
    "    1. print secara secara recusive  \n",
    "    2. return  jika n = 0 \n",
    "    \n",
    "    file path: (space separated value)   \n",
    "    - ./printDown/input.txt\n",
    "    - ./printDown/output.txt\n"
   ]
  },
  {
   "cell_type": "code",
   "execution_count": 10,
   "metadata": {},
   "outputs": [],
   "source": [
    "\n",
    "def recPrintUp(n, array = list()):\n",
    "    #prevent negative\n",
    "    if n < 0:\n",
    "        print(\"invalid input : bilangan negative\")\n",
    "        return None\n",
    "    if n >= 0:\n",
    "        recPrintUp(n - 1, array)\n",
    "        print(n, end=' ')\n",
    "        array.append(n)\n",
    "    \n",
    "        return array"
   ]
  },
  {
   "cell_type": "code",
   "execution_count": 11,
   "metadata": {},
   "outputs": [
    {
     "name": "stdout",
     "output_type": "stream",
     "text": [
      "invalid input : bilangan negative\n",
      "0 1 2 3 4 5 6 7 8 9 10 "
     ]
    },
    {
     "data": {
      "text/plain": [
       "[0, 1, 2, 3, 4, 5, 6, 7, 8, 9, 10]"
      ]
     },
     "execution_count": 11,
     "metadata": {},
     "output_type": "execute_result"
    }
   ],
   "source": [
    "array = list()\n",
    "recPrintUp(10)"
   ]
  },
  {
   "cell_type": "code",
   "execution_count": 12,
   "metadata": {},
   "outputs": [
    {
     "name": "stdout",
     "output_type": "stream",
     "text": [
      "invalid input : bilangan negative\n",
      "0 1 2 3 4 5 6 7 8 9 10 11 12 13 14 15 16 17 18 19 20 21 22 23 24 25 26 27 28 29 30 31 32 33 34 35 36 37 38 39 40 41 42 43 44 45 46 47 48 49 50 51 52 53 54 55 56 57 58 59 60 61 62 63 64 65 66 67 68 69 70 71 72 73 74 75 76 77 78 79 80 "
     ]
    }
   ],
   "source": [
    "inputPath = \"./PrintUp/input.txt\"\n",
    "outputPath = \"./PrintUp/output.txt\"\n",
    "array = list()\n",
    "with open(inputPath) as file:\n",
    "        lines = file.read()\n",
    "with open(outputPath, 'w') as file:\n",
    "        file.write(\" \".join(map(str,recPrintUp(int(lines)))))\n"
   ]
  },
  {
   "cell_type": "markdown",
   "metadata": {},
   "source": [
    "**e. reverse string**  \n",
    "    1. simpan char pertama  \n",
    "    2. ambil sisa string secara recursive  \n",
    "    3. print secara tarbalik  \n",
    "    \n",
    "    file path: (space separated value)   \n",
    "    - ./printDown/input.txt\n",
    "    - ./printDown/output.txt\n"
   ]
  },
  {
   "cell_type": "code",
   "execution_count": 13,
   "metadata": {},
   "outputs": [],
   "source": [
    "def recReverse(string):\n",
    "    if len(string) == 0:\n",
    "        return\n",
    "    temp = string[0]\n",
    "    recReverse(string[1:])\n",
    "    print(temp, end='')"
   ]
  },
  {
   "cell_type": "code",
   "execution_count": 14,
   "metadata": {},
   "outputs": [
    {
     "name": "stdout",
     "output_type": "stream",
     "text": [
      "gnicsipida rutetcesnoc ,tema tis rolod muspi merol"
     ]
    }
   ],
   "source": [
    "\n",
    "string = \"lorem ipsum dolor sit amet, consectetur adipiscing\"\n",
    "recReverse(string)"
   ]
  },
  {
   "cell_type": "code",
   "execution_count": 15,
   "metadata": {},
   "outputs": [
    {
     "name": "stdout",
     "output_type": "stream",
     "text": [
      "sipida rutetcesnoc ,tema tis rolod muspi merol"
     ]
    }
   ],
   "source": [
    "inputPath = \"./reverse/input.txt\"\n",
    "outputPath = \"./reverse/output.txt\"\n",
    "\n",
    "with open(inputPath) as file:\n",
    "        lines = file.read()\n",
    "# num = list(map(int, lines.split()))\n",
    "\n",
    "with open(outputPath, 'w') as file:\n",
    "        file.write('')\n",
    "def recReverseFile(string):\n",
    "        if len(string) == 0:\n",
    "                return\n",
    "        temp = string[0]\n",
    "        recReverseFile(string[1:])\n",
    "        print(temp, end='')\n",
    "        with open(outputPath, 'a') as file:\n",
    "                file.write(temp)\n",
    "\n",
    "recReverseFile(lines)"
   ]
  },
  {
   "cell_type": "markdown",
   "metadata": {},
   "source": [
    "**e. Prime checking**  \n",
    "    1. jika sama dengan 2 = true  \n",
    "    2. jika kurang dari 2 = false  \n",
    "    3. jika kurang dari jika habis dibagi factor = false  \n",
    "    \n"
   ]
  },
  {
   "cell_type": "code",
   "execution_count": 21,
   "metadata": {},
   "outputs": [],
   "source": [
    "def recPrimeCheck(n, factor = 2):\n",
    "    if n == 2:\n",
    "        return True \n",
    "    if n < 2 :\n",
    "        return False\n",
    "    if not (n % factor):\n",
    "        return False\n",
    "    if pow(factor,2) > n:\n",
    "        return True\n",
    "    return recPrimeCheck(n, factor + 1)"
   ]
  },
  {
   "cell_type": "code",
   "execution_count": 23,
   "metadata": {},
   "outputs": [
    {
     "name": "stdout",
     "output_type": "stream",
     "text": [
      "prima\n"
     ]
    }
   ],
   "source": [
    "if (recPrimeCheck(13)):\n",
    "    print(\"prima\")\n",
    "else:\n",
    "    print(\"bukan prima\")"
   ]
  },
  {
   "cell_type": "markdown",
   "metadata": {},
   "source": [
    "**e. Fibonnaci**  "
   ]
  },
  {
   "cell_type": "code",
   "execution_count": 36,
   "metadata": {},
   "outputs": [],
   "source": [
    "def recFibonacci(n):\n",
    "    if n <= 1:\n",
    "        return n\n",
    "    else:\n",
    "        return recFibonacci(n-1) + recFibonacci(n-2)\n",
    "def fibonacci(n):\n",
    "    sequence = [recFibonacci(i) for i in range(n)]\n",
    "    return sequence"
   ]
  },
  {
   "cell_type": "code",
   "execution_count": 40,
   "metadata": {},
   "outputs": [
    {
     "name": "stdout",
     "output_type": "stream",
     "text": [
      "0 1 1 2 3 5 8\n"
     ]
    }
   ],
   "source": [
    "print(\" \".join(map(str,fibonacci(7))))"
   ]
  }
 ],
 "metadata": {
  "interpreter": {
   "hash": "b3ba2566441a7c06988d0923437866b63cedc61552a5af99d1f4fb67d367b25f"
  },
  "kernelspec": {
   "display_name": "Python 3.8.3 64-bit ('base': conda)",
   "name": "python3"
  },
  "language_info": {
   "codemirror_mode": {
    "name": "ipython",
    "version": 3
   },
   "file_extension": ".py",
   "mimetype": "text/x-python",
   "name": "python",
   "nbconvert_exporter": "python",
   "pygments_lexer": "ipython3",
   "version": "3.8.3"
  }
 },
 "nbformat": 4,
 "nbformat_minor": 4
}
