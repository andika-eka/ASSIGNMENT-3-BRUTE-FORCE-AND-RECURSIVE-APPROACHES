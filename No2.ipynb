{
 "cells": [
  {
   "cell_type": "markdown",
   "metadata": {},
   "source": [
    "**a. integer multiplication**  \n",
    "    a x b  \n",
    "    1. jika x kurang dari y, tukarkan nilainya  \n",
    "    2. cari hasil penjumlahhan x secara recusive\n",
    "    3. return 0 jika y = 0 \n",
    "    \n",
    "    file path: (space separated value)   \n",
    "    - ./integerMultiplcation/input.txt\n",
    "    - ./integerMultiplcation/output.txt\n"
   ]
  },
  {
   "cell_type": "code",
   "execution_count": 12,
   "metadata": {},
   "outputs": [],
   "source": [
    "def  multiply( x , y ):\n",
    "    # jika x kurang dari y, tukarkan nilainya  \n",
    "    if x < y:\n",
    "        return  multiply(y, x)\n",
    "    \n",
    "    # cari hasil penjumlahhan x secara recusive\n",
    "    elif y :\n",
    "        return (x +  multiply(x, y - 1))\n",
    "    \n",
    "    else:\n",
    "        return 0"
   ]
  },
  {
   "cell_type": "code",
   "execution_count": 13,
   "metadata": {},
   "outputs": [
    {
     "name": "stdout",
     "output_type": "stream",
     "text": [
      "54\n"
     ]
    }
   ],
   "source": [
    "x = 6\n",
    "y = 9\n",
    "print(  multiply(x, y))\n"
   ]
  },
  {
   "cell_type": "code",
   "execution_count": 15,
   "metadata": {},
   "outputs": [],
   "source": [
    "inputPath = \"./integerMultiplcation/input.txt\"\n",
    "outputPath = \"./integerMultiplcation/output.txt\"\n",
    "\n",
    "with open(inputPath) as file:\n",
    "        lines = file.read()\n",
    "num = list(map(int, lines.split()))\n",
    "with open(outputPath, 'w') as file:\n",
    "        file.write(str(multiply(num[0],num[1])))\n"
   ]
  }
 ],
 "metadata": {
  "interpreter": {
   "hash": "b3ba2566441a7c06988d0923437866b63cedc61552a5af99d1f4fb67d367b25f"
  },
  "kernelspec": {
   "display_name": "Python 3.8.3 64-bit ('base': conda)",
   "name": "python3"
  },
  "language_info": {
   "codemirror_mode": {
    "name": "ipython",
    "version": 3
   },
   "file_extension": ".py",
   "mimetype": "text/x-python",
   "name": "python",
   "nbconvert_exporter": "python",
   "pygments_lexer": "ipython3",
   "version": "3.8.3"
  }
 },
 "nbformat": 4,
 "nbformat_minor": 4
}
