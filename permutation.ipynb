{
 "cells": [
  {
   "cell_type": "markdown",
   "metadata": {},
   "source": [
    "|Poin                                                               |Ya |Tidak|\n",
    "|-------------------------------------------------------------------|---|-----|\n",
    "|Program berhasil dikompilasi tanpa kesalahan (no syntax error)     |Ya|\n",
    "|Program berhasil running |Ya|\n",
    "|Program dapat membaca file masukan dan menuliskan luaran           |Ya |\n",
    "|Program memberikan output yang sama dengan soal (a)                |Ya|\n",
    "|Program dapat mengatasi ketika input tidak sesuai dengan kriteria  |Ya |\n",
    "\n",
    "\n",
    "\n"
   ]
  },
  {
   "cell_type": "markdown",
   "metadata": {},
   "source": [
    "(5 poin) Implementasikan algoritma tersebut dalam program komputer. Lalu tes dengan\n",
    "memberikan input integer n dan sebuah array A = [1; 2; 3; : : : ; n]. Tes program dengan nilai n\n",
    "yang berbeda. Jelaskan apa yang menjadi output program Anda (atau algoritma di atas)! Selidiki\n",
    "apakah hasil pada soal (a) sama dengan output yang diberikan program Anda!\n",
    "Lengkapi tabel berikut, dan tulis dalam laporan di file pdf Anda. Tambahkan keterbatasan program\n",
    "setelah tabel."
   ]
  },
  {
   "cell_type": "code",
   "execution_count": 29,
   "metadata": {},
   "outputs": [],
   "source": [
    "def permutation(a, n):\n",
    "    if n == 0 : \n",
    "        print(\"invalid input : a = 0\")\n",
    "        return None\n",
    "\n",
    "    if n == 1:\n",
    "        print(a)\n",
    "        return None\n",
    "\n",
    "    for i in range(n):\n",
    "        permutation(a, n-1)\n",
    "        if n % 2:\n",
    "            a[0], a[n-1] = a[n-1], a[0]\n",
    "        else:\n",
    "            \n",
    "            a[i], a[n-1] = a[n-1], a[i]\n",
    "        \n",
    "    \n"
   ]
  },
  {
   "cell_type": "code",
   "execution_count": 30,
   "metadata": {},
   "outputs": [
    {
     "name": "stdout",
     "output_type": "stream",
     "text": [
      "[1, 2]\n",
      "[2, 1]\n",
      "_____________\n",
      "[1, 2, 3]\n",
      "[2, 1, 3]\n",
      "[3, 1, 2]\n",
      "[1, 3, 2]\n",
      "[2, 3, 1]\n",
      "[3, 2, 1]\n"
     ]
    }
   ],
   "source": [
    "\n",
    "permutation([1,2] , 2)\n",
    "print(\"_____________\")\n",
    "permutation([1,2, 3] , 3)"
   ]
  }
 ],
 "metadata": {
  "interpreter": {
   "hash": "b3ba2566441a7c06988d0923437866b63cedc61552a5af99d1f4fb67d367b25f"
  },
  "kernelspec": {
   "display_name": "Python 3.8.3 64-bit ('base': conda)",
   "name": "python3"
  },
  "language_info": {
   "codemirror_mode": {
    "name": "ipython",
    "version": 3
   },
   "file_extension": ".py",
   "mimetype": "text/x-python",
   "name": "python",
   "nbconvert_exporter": "python",
   "pygments_lexer": "ipython3",
   "version": "3.8.3"
  },
  "orig_nbformat": 4
 },
 "nbformat": 4,
 "nbformat_minor": 2
}
