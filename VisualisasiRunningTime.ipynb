{
  "cells": [
    {
      "cell_type": "markdown",
      "metadata": {
        "id": "a9g3DDQYX2oH"
      },
      "source": [
        "**Visualisasikan running time**  \n",
        "(5 poin) Untuk masing-masing program, buatlah sebuah eksperimen dengan memberikan input\n",
        "banyaknya cakram n = 0; 1; 2; : : : ; 30 (jika program Anda berjalan cukup cepat, berikan masukan\n",
        "hingga n = 50 atau lebih), dan uji performance-nya dengan mencatatkan running time untuk setiap\n",
        "nilai n yang diinput. Visualisasikan running time masing-masing program dengan menyajikan\n",
        "grafik garis keduanya dalam satu bingkai, untuk membandingkan performance kedua program\n",
        "tersebut."
      ]
    },
    {
      "cell_type": "code",
      "execution_count": 1,
      "metadata": {
        "id": "SSe_TXicX2oQ"
      },
      "outputs": [],
      "source": [
        "def printTower(disk, t1, t2, t3):\n",
        "    towers = list()\n",
        "    towers.append(t1)\n",
        "    towers.append(t2)\n",
        "    towers.append(t3)\n",
        "\n",
        "    print(\"moving :\",disk )\n",
        "\n",
        "    for tower in towers:\n",
        "        if tower[1] == \"source\":\n",
        "            print(tower[1], \" : \", tower[0])\n",
        "            break\n",
        "    for tower in towers:\n",
        "        if tower[1] == \"helper\":\n",
        "            print(tower[1], \" : \", tower[0])\n",
        "            break\n",
        "    for tower in towers:\n",
        "        if tower[1] == \"target\":\n",
        "            print(tower[1], \" : \", tower[0])\n",
        "            break\n"
      ]
    },
    {
      "cell_type": "code",
      "execution_count": 7,
      "metadata": {
        "id": "yyDxD0UyX2oS"
      },
      "outputs": [],
      "source": [
        "\n",
        "def recHanoi(n, source, helper, target):\n",
        "    if n > 0:\n",
        "        recHanoi(n - 1, source, target, helper)\n",
        "        if source[0]:\n",
        "            disk = source[0].pop()\n",
        "            target[0].append(disk)\n",
        "            # printTower(n, source, helper, target)\n",
        "        recHanoi(n - 1, helper, source, target)\n",
        "        \n"
      ]
    },
    {
      "cell_type": "code",
      "execution_count": 11,
      "metadata": {
        "id": "mqwYQS2NX2oT"
      },
      "outputs": [],
      "source": [
        "def recHanoi2(n, source, helper, target):\n",
        "\n",
        "    if n > 0:\n",
        "        recHanoi2(n - 1, source, target, helper)\n",
        "        if source[0]:\n",
        "            disk = source[0].pop()\n",
        "            # print(\"Pindahkan cakram \" + str(disk) + \" dari \" + source[1] + \" ke \" + target[1])\n",
        "            target[0].append(disk)\n",
        "        recHanoi2(n - 1, helper, source, target)"
      ]
    },
    {
      "cell_type": "code",
      "execution_count": 4,
      "metadata": {
        "id": "xJukPCSPX2oU"
      },
      "outputs": [],
      "source": [
        "import matplotlib.pyplot as plt\n",
        "import numpy as np\n",
        "import timeit\n",
        "import math\n",
        "import random\n",
        "\n",
        "plt.rcParams['figure.figsize'] = [10, 6] # set size of plot"
      ]
    },
    {
      "cell_type": "code",
      "execution_count": 8,
      "metadata": {
        "id": "GOVe1BiPX2oV"
      },
      "outputs": [],
      "source": [
        "\n",
        "ns = np.linspace(0, 15, dtype=int)\n",
        "\n",
        "t = timeit.Timer(\"recHanoi(len(source[0]),source,helper,target)\")\n",
        "ts = [timeit.timeit('recHanoi(n, source, helper, target)', \n",
        "                  setup='n={}; source = (list(range({})), \"source\") ;helper = (list(), \"helper\");target = (list(), \"target\") '.format(n,n),\n",
        "                  globals=globals(),\n",
        "                  number=15)\n",
        "      for n in ns]  \n"
      ]
    },
    {
      "cell_type": "code",
      "source": [
        "plt.plot(ns, ts, 'or')\n",
        "degree = 4\n",
        "coeffs = np.polyfit(ns, ts, degree)\n",
        "p = np.poly1d(coeffs)\n",
        "plt.xlabel('input (n)')\n",
        "plt.ylabel('running time')\n",
        "plt.title('algorima recirsive 1') \n",
        "plt.plot(ns, [p(n) for n in ns], '-r')\n",
        "\n"
      ],
      "metadata": {
        "colab": {
          "base_uri": "https://localhost:8080/",
          "height": 421
        },
        "id": "Lncs60lpZ5cH",
        "outputId": "2c46cd03-f639-4d9f-9cb4-882fe107f3ce"
      },
      "execution_count": 17,
      "outputs": [
        {
          "output_type": "execute_result",
          "data": {
            "text/plain": [
              "[<matplotlib.lines.Line2D at 0x7fd7d02d5410>]"
            ]
          },
          "metadata": {},
          "execution_count": 17
        },
        {
          "output_type": "display_data",
          "data": {
            "text/plain": [
              "<Figure size 720x432 with 1 Axes>"
            ],
            "image/png": "[encoded data removed]"
          },
          "metadata": {
            "needs_background": "light"
          }
        }
      ]
    },
    {
      "cell_type": "code",
      "execution_count": 12,
      "metadata": {
        "id": "pBEwHJEncggX"
      },
      "outputs": [],
      "source": [
        "\n",
        "ns = np.linspace(0, 15, dtype=int)\n",
        "\n",
        "\n",
        "ts2 = [timeit.timeit('recHanoi2(n, source, helper, target)', \n",
        "                  setup='n={}; source = (list(range({})), \"source\") ;helper = (list(), \"helper\");target = (list(), \"target\") '.format(n,n),\n",
        "                  globals=globals(),\n",
        "                  number=15)\n",
        "      for n in ns]  \n"
      ]
    },
    {
      "cell_type": "code",
      "source": [
        "plt.plot(ns, ts2, 'or')\n",
        "degree = 4\n",
        "coeffs = np.polyfit(ns, ts2, degree)\n",
        "p = np.poly1d(coeffs)\n",
        "plt.plot(ns, [p(n) for n in ns], '-r')\n",
        "plt.xlabel('input (n)')\n",
        "plt.title('algorima recirsive 2') \n",
        "plt.ylabel('running time') \n"
      ],
      "metadata": {
        "colab": {
          "base_uri": "https://localhost:8080/",
          "height": 421
        },
        "outputId": "9dc027c8-29fe-4540-a349-415580a14ce7",
        "id": "PVtrd1ASdV92"
      },
      "execution_count": 16,
      "outputs": [
        {
          "output_type": "execute_result",
          "data": {
            "text/plain": [
              "Text(0, 0.5, 'running time')"
            ]
          },
          "metadata": {},
          "execution_count": 16
        },
        {
          "output_type": "display_data",
          "data": {
            "text/plain": [
              "<Figure size 720x432 with 1 Axes>"
            ],
            "image/png": "[encoded data removed]"
          },
          "metadata": {
            "needs_background": "light"
          }
        }
      ]
    },
    {
      "cell_type": "markdown",
      "metadata": {
        "id": "fN2yxeYgX2oX"
      },
      "source": [
        ""
      ]
    }
  ],
  "metadata": {
    "interpreter": {
      "hash": "b3ba2566441a7c06988d0923437866b63cedc61552a5af99d1f4fb67d367b25f"
    },
    "kernelspec": {
      "display_name": "Python 3.8.3 64-bit ('base': conda)",
      "name": "python3"
    },
    "language_info": {
      "codemirror_mode": {
        "name": "ipython",
        "version": 3
      },
      "file_extension": ".py",
      "mimetype": "text/x-python",
      "name": "python",
      "nbconvert_exporter": "python",
      "pygments_lexer": "ipython3",
      "version": "3.8.3"
    },
    "orig_nbformat": 4,
    "colab": {
      "name": "VisualisasiRunningTime.ipynb",
      "provenance": []
    }
  },
  "nbformat": 4,
  "nbformat_minor": 0
}